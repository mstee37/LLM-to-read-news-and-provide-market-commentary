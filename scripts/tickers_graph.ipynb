{
 "cells": [
  {
   "cell_type": "code",
   "execution_count": 74,
   "metadata": {},
   "outputs": [],
   "source": [
    "from ticker_prices import get_tickers_changes\n",
    "import pandas as pd\n",
    "from datetime import datetime, timedelta\n",
    "from pandas.tseries.offsets import BusinessDay\n"
   ]
  },
  {
   "cell_type": "code",
   "execution_count": 75,
   "metadata": {},
   "outputs": [
    {
     "name": "stderr",
     "output_type": "stream",
     "text": [
      "[*********************100%***********************]  1 of 1 completed"
     ]
    },
    {
     "name": "stderr",
     "output_type": "stream",
     "text": [
      "\n",
      "[*********************100%***********************]  1 of 1 completed\n",
      "[*********************100%***********************]  1 of 1 completed\n",
      "[*********************100%***********************]  1 of 1 completed\n",
      "[*********************100%***********************]  1 of 1 completed\n",
      "[*********************100%***********************]  1 of 1 completed\n",
      "[*********************100%***********************]  1 of 1 completed\n",
      "[*********************100%***********************]  1 of 1 completed\n",
      "[*********************100%***********************]  1 of 1 completed\n",
      "[*********************100%***********************]  1 of 1 completed\n",
      "[*********************100%***********************]  1 of 1 completed\n",
      "[*********************100%***********************]  1 of 1 completed\n",
      "[*********************100%***********************]  1 of 1 completed\n",
      "[*********************100%***********************]  1 of 1 completed\n",
      "\n",
      "1 Failed download:\n",
      "['^TSE50']: YFPricesMissingError('$%ticker%: possibly delisted; no price data found  (1d 2025-01-14 00:00:00 -> 2025-02-13)')\n",
      "[*********************100%***********************]  1 of 1 completed\n",
      "[*********************100%***********************]  1 of 1 completed\n",
      "[*********************100%***********************]  1 of 1 completed\n",
      "[*********************100%***********************]  1 of 1 completed\n",
      "[*********************100%***********************]  1 of 1 completed\n",
      "[*********************100%***********************]  1 of 1 completed\n",
      "[*********************100%***********************]  1 of 1 completed\n",
      "[*********************100%***********************]  1 of 1 completed"
     ]
    },
    {
     "name": "stdout",
     "output_type": "stream",
     "text": [
      "Error retrieving data for ^TSE50: single positional indexer is out-of-bounds\n"
     ]
    },
    {
     "name": "stderr",
     "output_type": "stream",
     "text": [
      "\n",
      "[*********************100%***********************]  1 of 1 completed\n",
      "[*********************100%***********************]  1 of 1 completed\n",
      "[*********************100%***********************]  1 of 1 completed\n",
      "[*********************100%***********************]  1 of 1 completed\n",
      "[*********************100%***********************]  1 of 1 completed\n",
      "[*********************100%***********************]  1 of 1 completed\n"
     ]
    }
   ],
   "source": [
    "tickers = pd.read_csv(\"C:\\\\Users\\\\tee_m\\\\Desktop\\\\TIC3901 Indus Project\\\\scripts\\\\input_ticker_prices.csv\")[\"Ticker\"].tolist()\n",
    "# print(tickers.columns)\n",
    "names = pd.read_csv(\"C:\\\\Users\\\\tee_m\\\\Desktop\\\\TIC3901 Indus Project\\\\scripts\\\\input_ticker_prices.csv\")[\"Name\"].tolist()\n",
    "\n",
    "\n",
    "end_date = datetime.today().date()\n",
    "start_date = end_date - timedelta(29) - BusinessDay(1)  # Retrieve data for the past month\n",
    "# print(start_date)\n",
    "\n",
    "results_df = get_tickers_changes(tickers, names, start_date, end_date)"
   ]
  },
  {
   "cell_type": "code",
   "execution_count": 76,
   "metadata": {},
   "outputs": [],
   "source": [
    "df = results_df[results_df.columns[:5]]"
   ]
  },
  {
   "cell_type": "code",
   "execution_count": 77,
   "metadata": {},
   "outputs": [
    {
     "data": {
      "application/vnd.plotly.v1+json": {
       "config": {
        "plotlyServerURL": "https://plot.ly"
       },
       "data": [
        {
         "marker": {
          "color": "blue"
         },
         "name": "DoD %",
         "type": "bar",
         "x": [
          "Dow Jones Industrials (US)",
          "S&P 500 (US)",
          "NASDAQ 100 (US)",
          "Nikkei 225 (JP)",
          "FTSE 100 (UK)",
          "STOXX 50 (EU)",
          "CAC 40 (FR)",
          "DAX (GERMANY)",
          "CSI 300 (CN)",
          "Hang Seng Index (HK)",
          "KOSPI Index (KR)",
          "NIFTY 50 (IN)",
          "SENSEX (IN)",
          "Taiwan Weighted Index (TW)",
          "CBOE Volatility Index",
          "Gold Futures",
          "Brent Futures",
          "US Dollar Index",
          "GBPUSD",
          "EURUSD",
          "AUDUSD",
          "USDJPY",
          "USDCNY",
          "USDTWD",
          "USDKRW",
          "Bitcoin",
          " 10y UST"
         ],
         "y": [
          -0.5047576317185025,
          -0.27238667143857626,
          0.11865402632302526,
          0,
          0.34178684650232566,
          0.10965982476067757,
          0.16552752212816166,
          0.5000456867093508,
          0.9456320364335478,
          2.644114886882177,
          0.36784795771594647,
          -0.11507892904301298,
          -0.1605946435752261,
          -0.4032696564515378,
          -0.8114863341212755,
          -0.12017167381974249,
          -2.3636359673041802,
          -0.018522270503874307,
          0.7358867438639055,
          0.6156768707821494,
          0.43080494383530354,
          0.6457578859882654,
          0.036961488831226415,
          -0.18895087172871766,
          -0.1692777371215527,
          2.2334068856776588,
          2.2040974362095014
         ]
        },
        {
         "marker": {
          "color": "green"
         },
         "name": "WoW %",
         "type": "bar",
         "x": [
          "Dow Jones Industrials (US)",
          "S&P 500 (US)",
          "NASDAQ 100 (US)",
          "Nikkei 225 (JP)",
          "FTSE 100 (UK)",
          "STOXX 50 (EU)",
          "CAC 40 (FR)",
          "DAX (GERMANY)",
          "CSI 300 (CN)",
          "Hang Seng Index (HK)",
          "KOSPI Index (KR)",
          "NIFTY 50 (IN)",
          "SENSEX (IN)",
          "Taiwan Weighted Index (TW)",
          "CBOE Volatility Index",
          "Gold Futures",
          "Brent Futures",
          "US Dollar Index",
          "GBPUSD",
          "EURUSD",
          "AUDUSD",
          "USDJPY",
          "USDCNY",
          "USDTWD",
          "USDKRW",
          "Bitcoin",
          " 10y UST"
         ],
         "y": [
          -1.1247732329580868,
          -0.15688850999495646,
          0.2821089553969717,
          0.34049371387321764,
          2.134920391349789,
          1.7119785687904046,
          1.907195454865225,
          2.604009266742406,
          3.287941933455167,
          6.121399128176291,
          1.5590140854662935,
          -2.747478550597873,
          -2.683235909083831,
          0.5533729626505505,
          0.7609377430297114,
          1.3024063613270924,
          0.7639722425429597,
          0.33463525211396916,
          -0.21292690229379824,
          -0.07566655871387076,
          0.7551683679623402,
          -0.9044119248489793,
          1.7446626957569267,
          -0.26846552952703306,
          0.04068280785618438,
          1.3149181876571399,
          4.862056895667123
         ]
        },
        {
         "marker": {
          "color": "red"
         },
         "name": "MoM %",
         "type": "bar",
         "x": [
          "Dow Jones Industrials (US)",
          "S&P 500 (US)",
          "NASDAQ 100 (US)",
          "Nikkei 225 (JP)",
          "FTSE 100 (UK)",
          "STOXX 50 (EU)",
          "CAC 40 (FR)",
          "DAX (GERMANY)",
          "CSI 300 (CN)",
          "Hang Seng Index (HK)",
          "KOSPI Index (KR)",
          "NIFTY 50 (IN)",
          "SENSEX (IN)",
          "Taiwan Weighted Index (TW)",
          "CBOE Volatility Index",
          "Gold Futures",
          "Brent Futures",
          "US Dollar Index",
          "GBPUSD",
          "EURUSD",
          "AUDUSD",
          "USDJPY",
          "USDCNY",
          "USDTWD",
          "USDKRW",
          "Bitcoin",
          " 10y UST"
         ],
         "y": [
          2.6537868071998587,
          1.7153210034027562,
          2.266755651370145,
          1.3503102883899836,
          6.099201371806211,
          6.360919677538323,
          7.593729014186083,
          7.647018730167048,
          3.2620942713653034,
          13.335270315322303,
          2.065829309155608,
          -0.723507419926601,
          -0.720764606775782,
          3.443013465238656,
          -1.4268020095312999,
          7.244239631336405,
          -8.350601701886077,
          -1.0541698919142262,
          1.9499134146148633,
          0.5638445523941708,
          1.7232154288833332,
          -3.360331879862502,
          -0.3232923195324682,
          -0.45247464944964705,
          -0.6634946861915872,
          -2.6054883274418317,
          -0.3438597555576689
         ]
        }
       ],
       "layout": {
        "barmode": "group",
        "template": {
         "data": {
          "bar": [
           {
            "error_x": {
             "color": "#2a3f5f"
            },
            "error_y": {
             "color": "#2a3f5f"
            },
            "marker": {
             "line": {
              "color": "#E5ECF6",
              "width": 0.5
             },
             "pattern": {
              "fillmode": "overlay",
              "size": 10,
              "solidity": 0.2
             }
            },
            "type": "bar"
           }
          ],
          "barpolar": [
           {
            "marker": {
             "line": {
              "color": "#E5ECF6",
              "width": 0.5
             },
             "pattern": {
              "fillmode": "overlay",
              "size": 10,
              "solidity": 0.2
             }
            },
            "type": "barpolar"
           }
          ],
          "carpet": [
           {
            "aaxis": {
             "endlinecolor": "#2a3f5f",
             "gridcolor": "white",
             "linecolor": "white",
             "minorgridcolor": "white",
             "startlinecolor": "#2a3f5f"
            },
            "baxis": {
             "endlinecolor": "#2a3f5f",
             "gridcolor": "white",
             "linecolor": "white",
             "minorgridcolor": "white",
             "startlinecolor": "#2a3f5f"
            },
            "type": "carpet"
           }
          ],
          "choropleth": [
           {
            "colorbar": {
             "outlinewidth": 0,
             "ticks": ""
            },
            "type": "choropleth"
           }
          ],
          "contour": [
           {
            "colorbar": {
             "outlinewidth": 0,
             "ticks": ""
            },
            "colorscale": [
             [
              0,
              "#0d0887"
             ],
             [
              0.1111111111111111,
              "#46039f"
             ],
             [
              0.2222222222222222,
              "#7201a8"
             ],
             [
              0.3333333333333333,
              "#9c179e"
             ],
             [
              0.4444444444444444,
              "#bd3786"
             ],
             [
              0.5555555555555556,
              "#d8576b"
             ],
             [
              0.6666666666666666,
              "#ed7953"
             ],
             [
              0.7777777777777778,
              "#fb9f3a"
             ],
             [
              0.8888888888888888,
              "#fdca26"
             ],
             [
              1,
              "#f0f921"
             ]
            ],
            "type": "contour"
           }
          ],
          "contourcarpet": [
           {
            "colorbar": {
             "outlinewidth": 0,
             "ticks": ""
            },
            "type": "contourcarpet"
           }
          ],
          "heatmap": [
           {
            "colorbar": {
             "outlinewidth": 0,
             "ticks": ""
            },
            "colorscale": [
             [
              0,
              "#0d0887"
             ],
             [
              0.1111111111111111,
              "#46039f"
             ],
             [
              0.2222222222222222,
              "#7201a8"
             ],
             [
              0.3333333333333333,
              "#9c179e"
             ],
             [
              0.4444444444444444,
              "#bd3786"
             ],
             [
              0.5555555555555556,
              "#d8576b"
             ],
             [
              0.6666666666666666,
              "#ed7953"
             ],
             [
              0.7777777777777778,
              "#fb9f3a"
             ],
             [
              0.8888888888888888,
              "#fdca26"
             ],
             [
              1,
              "#f0f921"
             ]
            ],
            "type": "heatmap"
           }
          ],
          "heatmapgl": [
           {
            "colorbar": {
             "outlinewidth": 0,
             "ticks": ""
            },
            "colorscale": [
             [
              0,
              "#0d0887"
             ],
             [
              0.1111111111111111,
              "#46039f"
             ],
             [
              0.2222222222222222,
              "#7201a8"
             ],
             [
              0.3333333333333333,
              "#9c179e"
             ],
             [
              0.4444444444444444,
              "#bd3786"
             ],
             [
              0.5555555555555556,
              "#d8576b"
             ],
             [
              0.6666666666666666,
              "#ed7953"
             ],
             [
              0.7777777777777778,
              "#fb9f3a"
             ],
             [
              0.8888888888888888,
              "#fdca26"
             ],
             [
              1,
              "#f0f921"
             ]
            ],
            "type": "heatmapgl"
           }
          ],
          "histogram": [
           {
            "marker": {
             "pattern": {
              "fillmode": "overlay",
              "size": 10,
              "solidity": 0.2
             }
            },
            "type": "histogram"
           }
          ],
          "histogram2d": [
           {
            "colorbar": {
             "outlinewidth": 0,
             "ticks": ""
            },
            "colorscale": [
             [
              0,
              "#0d0887"
             ],
             [
              0.1111111111111111,
              "#46039f"
             ],
             [
              0.2222222222222222,
              "#7201a8"
             ],
             [
              0.3333333333333333,
              "#9c179e"
             ],
             [
              0.4444444444444444,
              "#bd3786"
             ],
             [
              0.5555555555555556,
              "#d8576b"
             ],
             [
              0.6666666666666666,
              "#ed7953"
             ],
             [
              0.7777777777777778,
              "#fb9f3a"
             ],
             [
              0.8888888888888888,
              "#fdca26"
             ],
             [
              1,
              "#f0f921"
             ]
            ],
            "type": "histogram2d"
           }
          ],
          "histogram2dcontour": [
           {
            "colorbar": {
             "outlinewidth": 0,
             "ticks": ""
            },
            "colorscale": [
             [
              0,
              "#0d0887"
             ],
             [
              0.1111111111111111,
              "#46039f"
             ],
             [
              0.2222222222222222,
              "#7201a8"
             ],
             [
              0.3333333333333333,
              "#9c179e"
             ],
             [
              0.4444444444444444,
              "#bd3786"
             ],
             [
              0.5555555555555556,
              "#d8576b"
             ],
             [
              0.6666666666666666,
              "#ed7953"
             ],
             [
              0.7777777777777778,
              "#fb9f3a"
             ],
             [
              0.8888888888888888,
              "#fdca26"
             ],
             [
              1,
              "#f0f921"
             ]
            ],
            "type": "histogram2dcontour"
           }
          ],
          "mesh3d": [
           {
            "colorbar": {
             "outlinewidth": 0,
             "ticks": ""
            },
            "type": "mesh3d"
           }
          ],
          "parcoords": [
           {
            "line": {
             "colorbar": {
              "outlinewidth": 0,
              "ticks": ""
             }
            },
            "type": "parcoords"
           }
          ],
          "pie": [
           {
            "automargin": true,
            "type": "pie"
           }
          ],
          "scatter": [
           {
            "fillpattern": {
             "fillmode": "overlay",
             "size": 10,
             "solidity": 0.2
            },
            "type": "scatter"
           }
          ],
          "scatter3d": [
           {
            "line": {
             "colorbar": {
              "outlinewidth": 0,
              "ticks": ""
             }
            },
            "marker": {
             "colorbar": {
              "outlinewidth": 0,
              "ticks": ""
             }
            },
            "type": "scatter3d"
           }
          ],
          "scattercarpet": [
           {
            "marker": {
             "colorbar": {
              "outlinewidth": 0,
              "ticks": ""
             }
            },
            "type": "scattercarpet"
           }
          ],
          "scattergeo": [
           {
            "marker": {
             "colorbar": {
              "outlinewidth": 0,
              "ticks": ""
             }
            },
            "type": "scattergeo"
           }
          ],
          "scattergl": [
           {
            "marker": {
             "colorbar": {
              "outlinewidth": 0,
              "ticks": ""
             }
            },
            "type": "scattergl"
           }
          ],
          "scattermapbox": [
           {
            "marker": {
             "colorbar": {
              "outlinewidth": 0,
              "ticks": ""
             }
            },
            "type": "scattermapbox"
           }
          ],
          "scatterpolar": [
           {
            "marker": {
             "colorbar": {
              "outlinewidth": 0,
              "ticks": ""
             }
            },
            "type": "scatterpolar"
           }
          ],
          "scatterpolargl": [
           {
            "marker": {
             "colorbar": {
              "outlinewidth": 0,
              "ticks": ""
             }
            },
            "type": "scatterpolargl"
           }
          ],
          "scatterternary": [
           {
            "marker": {
             "colorbar": {
              "outlinewidth": 0,
              "ticks": ""
             }
            },
            "type": "scatterternary"
           }
          ],
          "surface": [
           {
            "colorbar": {
             "outlinewidth": 0,
             "ticks": ""
            },
            "colorscale": [
             [
              0,
              "#0d0887"
             ],
             [
              0.1111111111111111,
              "#46039f"
             ],
             [
              0.2222222222222222,
              "#7201a8"
             ],
             [
              0.3333333333333333,
              "#9c179e"
             ],
             [
              0.4444444444444444,
              "#bd3786"
             ],
             [
              0.5555555555555556,
              "#d8576b"
             ],
             [
              0.6666666666666666,
              "#ed7953"
             ],
             [
              0.7777777777777778,
              "#fb9f3a"
             ],
             [
              0.8888888888888888,
              "#fdca26"
             ],
             [
              1,
              "#f0f921"
             ]
            ],
            "type": "surface"
           }
          ],
          "table": [
           {
            "cells": {
             "fill": {
              "color": "#EBF0F8"
             },
             "line": {
              "color": "white"
             }
            },
            "header": {
             "fill": {
              "color": "#C8D4E3"
             },
             "line": {
              "color": "white"
             }
            },
            "type": "table"
           }
          ]
         },
         "layout": {
          "annotationdefaults": {
           "arrowcolor": "#2a3f5f",
           "arrowhead": 0,
           "arrowwidth": 1
          },
          "autotypenumbers": "strict",
          "coloraxis": {
           "colorbar": {
            "outlinewidth": 0,
            "ticks": ""
           }
          },
          "colorscale": {
           "diverging": [
            [
             0,
             "#8e0152"
            ],
            [
             0.1,
             "#c51b7d"
            ],
            [
             0.2,
             "#de77ae"
            ],
            [
             0.3,
             "#f1b6da"
            ],
            [
             0.4,
             "#fde0ef"
            ],
            [
             0.5,
             "#f7f7f7"
            ],
            [
             0.6,
             "#e6f5d0"
            ],
            [
             0.7,
             "#b8e186"
            ],
            [
             0.8,
             "#7fbc41"
            ],
            [
             0.9,
             "#4d9221"
            ],
            [
             1,
             "#276419"
            ]
           ],
           "sequential": [
            [
             0,
             "#0d0887"
            ],
            [
             0.1111111111111111,
             "#46039f"
            ],
            [
             0.2222222222222222,
             "#7201a8"
            ],
            [
             0.3333333333333333,
             "#9c179e"
            ],
            [
             0.4444444444444444,
             "#bd3786"
            ],
            [
             0.5555555555555556,
             "#d8576b"
            ],
            [
             0.6666666666666666,
             "#ed7953"
            ],
            [
             0.7777777777777778,
             "#fb9f3a"
            ],
            [
             0.8888888888888888,
             "#fdca26"
            ],
            [
             1,
             "#f0f921"
            ]
           ],
           "sequentialminus": [
            [
             0,
             "#0d0887"
            ],
            [
             0.1111111111111111,
             "#46039f"
            ],
            [
             0.2222222222222222,
             "#7201a8"
            ],
            [
             0.3333333333333333,
             "#9c179e"
            ],
            [
             0.4444444444444444,
             "#bd3786"
            ],
            [
             0.5555555555555556,
             "#d8576b"
            ],
            [
             0.6666666666666666,
             "#ed7953"
            ],
            [
             0.7777777777777778,
             "#fb9f3a"
            ],
            [
             0.8888888888888888,
             "#fdca26"
            ],
            [
             1,
             "#f0f921"
            ]
           ]
          },
          "colorway": [
           "#636efa",
           "#EF553B",
           "#00cc96",
           "#ab63fa",
           "#FFA15A",
           "#19d3f3",
           "#FF6692",
           "#B6E880",
           "#FF97FF",
           "#FECB52"
          ],
          "font": {
           "color": "#2a3f5f"
          },
          "geo": {
           "bgcolor": "white",
           "lakecolor": "white",
           "landcolor": "#E5ECF6",
           "showlakes": true,
           "showland": true,
           "subunitcolor": "white"
          },
          "hoverlabel": {
           "align": "left"
          },
          "hovermode": "closest",
          "mapbox": {
           "style": "light"
          },
          "paper_bgcolor": "white",
          "plot_bgcolor": "#E5ECF6",
          "polar": {
           "angularaxis": {
            "gridcolor": "white",
            "linecolor": "white",
            "ticks": ""
           },
           "bgcolor": "#E5ECF6",
           "radialaxis": {
            "gridcolor": "white",
            "linecolor": "white",
            "ticks": ""
           }
          },
          "scene": {
           "xaxis": {
            "backgroundcolor": "#E5ECF6",
            "gridcolor": "white",
            "gridwidth": 2,
            "linecolor": "white",
            "showbackground": true,
            "ticks": "",
            "zerolinecolor": "white"
           },
           "yaxis": {
            "backgroundcolor": "#E5ECF6",
            "gridcolor": "white",
            "gridwidth": 2,
            "linecolor": "white",
            "showbackground": true,
            "ticks": "",
            "zerolinecolor": "white"
           },
           "zaxis": {
            "backgroundcolor": "#E5ECF6",
            "gridcolor": "white",
            "gridwidth": 2,
            "linecolor": "white",
            "showbackground": true,
            "ticks": "",
            "zerolinecolor": "white"
           }
          },
          "shapedefaults": {
           "line": {
            "color": "#2a3f5f"
           }
          },
          "ternary": {
           "aaxis": {
            "gridcolor": "white",
            "linecolor": "white",
            "ticks": ""
           },
           "baxis": {
            "gridcolor": "white",
            "linecolor": "white",
            "ticks": ""
           },
           "bgcolor": "#E5ECF6",
           "caxis": {
            "gridcolor": "white",
            "linecolor": "white",
            "ticks": ""
           }
          },
          "title": {
           "x": 0.05
          },
          "xaxis": {
           "automargin": true,
           "gridcolor": "white",
           "linecolor": "white",
           "ticks": "",
           "title": {
            "standoff": 15
           },
           "zerolinecolor": "white",
           "zerolinewidth": 2
          },
          "yaxis": {
           "automargin": true,
           "gridcolor": "white",
           "linecolor": "white",
           "ticks": "",
           "title": {
            "standoff": 15
           },
           "zerolinecolor": "white",
           "zerolinewidth": 2
          }
         }
        },
        "title": {
         "text": "Market Performance Overview"
        },
        "xaxis": {
         "tickangle": -90,
         "title": {
          "text": "Ticker (Last Close shown in Labels)"
         }
        },
        "yaxis": {
         "title": {
          "text": "Percentage Change (%)"
         }
        }
       }
      }
     },
     "metadata": {},
     "output_type": "display_data"
    }
   ],
   "source": [
    "import plotly.graph_objects as go\n",
    "\n",
    "# Plotly Bar Chart\n",
    "fig = go.Figure()\n",
    "\n",
    "fig.add_trace(go.Bar(\n",
    "    x=df['Ticker'],\n",
    "    y=df['DoD %'],\n",
    "    name='DoD %',\n",
    "    marker_color='blue',\n",
    "))\n",
    "\n",
    "fig.add_trace(go.Bar(\n",
    "    x=df['Ticker'],\n",
    "    y=df['WoW %'],\n",
    "    name='WoW %',\n",
    "    marker_color='green'\n",
    "))\n",
    "\n",
    "fig.add_trace(go.Bar(\n",
    "    x=df['Ticker'],\n",
    "    y=df['MoM %'],\n",
    "    name='MoM %',\n",
    "    marker_color='red'\n",
    "))\n",
    "\n",
    "fig.update_layout(\n",
    "    title='Market Performance Overview',\n",
    "    xaxis_title='Ticker (Last Close shown in Labels)',\n",
    "    yaxis_title='Percentage Change (%)',\n",
    "    barmode='group',\n",
    "    xaxis_tickangle=-90\n",
    ")\n",
    "\n",
    "# Show the plot\n",
    "fig.show()"
   ]
  },
  {
   "cell_type": "code",
   "execution_count": 99,
   "metadata": {},
   "outputs": [
    {
     "data": {
      "application/vnd.plotly.v1+json": {
       "config": {
        "plotlyServerURL": "https://plot.ly"
       },
       "data": [
        {
         "cells": {
          "align": "left",
          "fill": {
           "color": [
            [
             "white",
             "white",
             "white",
             "white",
             "white",
             "white",
             "white",
             "white",
             "white",
             "white",
             "white",
             "white",
             "white",
             "white",
             "white",
             "white",
             "white",
             "white",
             "white",
             "white",
             "white",
             "white",
             "white",
             "white",
             "white",
             "white",
             "white"
            ],
            [
             "white",
             "white",
             "white",
             "white",
             "white",
             "white",
             "white",
             "white",
             "white",
             "white",
             "white",
             "white",
             "white",
             "white",
             "white",
             "white",
             "white",
             "white",
             "white",
             "white",
             "white",
             "white",
             "white",
             "white",
             "white",
             "white",
             "white"
            ],
            [
             "rgb(160, 94, 0)",
             "rgb(148, 106, 0)",
             "rgb(128, 126, 0)",
             "rgb(134, 120, 0)",
             "rgb(117, 137, 0)",
             "rgb(129, 125, 0)",
             "rgb(126, 128, 0)",
             "rgb(109, 145, 0)",
             "rgb(86, 168, 0)",
             "rgb(0, 255, 0)",
             "rgb(115, 139, 0)",
             "rgb(140, 114, 0)",
             "rgb(142, 112, 0)",
             "rgb(155, 99, 0)",
             "rgb(175, 79, 0)",
             "rgb(140, 114, 0)",
             "rgb(255, 0, 0)",
             "rgb(135, 119, 0)",
             "rgb(97, 157, 0)",
             "rgb(103, 151, 0)",
             "rgb(112, 142, 0)",
             "rgb(101, 153, 0)",
             "rgb(132, 122, 0)",
             "rgb(144, 110, 0)",
             "rgb(143, 111, 0)",
             "rgb(20, 234, 0)",
             "rgb(22, 232, 0)"
            ],
            [
             "rgb(208, 46, 0)",
             "rgb(180, 74, 0)",
             "rgb(167, 87, 0)",
             "rgb(166, 88, 0)",
             "rgb(114, 140, 0)",
             "rgb(126, 128, 0)",
             "rgb(121, 133, 0)",
             "rgb(101, 153, 0)",
             "rgb(81, 173, 0)",
             "rgb(0, 255, 0)",
             "rgb(131, 123, 0)",
             "rgb(255, 0, 0)",
             "rgb(253, 1, 0)",
             "rgb(160, 94, 0)",
             "rgb(154, 100, 0)",
             "rgb(138, 116, 0)",
             "rgb(154, 100, 0)",
             "rgb(166, 88, 0)",
             "rgb(182, 72, 0)",
             "rgb(178, 76, 0)",
             "rgb(154, 100, 0)",
             "rgb(202, 52, 0)",
             "rgb(125, 129, 0)",
             "rgb(183, 71, 0)",
             "rgb(174, 80, 0)",
             "rgb(138, 116, 0)",
             "rgb(36, 218, 0)"
            ],
            [
             "rgb(125, 129, 0)",
             "rgb(136, 118, 0)",
             "rgb(130, 124, 0)",
             "rgb(140, 114, 0)",
             "rgb(85, 169, 0)",
             "rgb(82, 172, 0)",
             "rgb(67, 187, 0)",
             "rgb(66, 188, 0)",
             "rgb(118, 136, 0)",
             "rgb(0, 255, 0)",
             "rgb(132, 122, 0)",
             "rgb(165, 89, 0)",
             "rgb(165, 89, 0)",
             "rgb(116, 138, 0)",
             "rgb(173, 81, 0)",
             "rgb(71, 183, 0)",
             "rgb(255, 0, 0)",
             "rgb(169, 85, 0)",
             "rgb(133, 121, 0)",
             "rgb(150, 104, 0)",
             "rgb(136, 118, 0)",
             "rgb(196, 58, 0)",
             "rgb(160, 94, 0)",
             "rgb(162, 92, 0)",
             "rgb(164, 90, 0)",
             "rgb(187, 67, 0)",
             "rgb(160, 94, 0)"
            ]
           ]
          },
          "height": 20,
          "line": {
           "color": "grey",
           "width": 0.5
          },
          "values": [
           [
            "Dow Jones Industrials (US)",
            "S&P 500 (US)",
            "NASDAQ 100 (US)",
            "Nikkei 225 (JP)",
            "FTSE 100 (UK)",
            "STOXX 50 (EU)",
            "CAC 40 (FR)",
            "DAX (GERMANY)",
            "CSI 300 (CN)",
            "Hang Seng Index (HK)",
            "KOSPI Index (KR)",
            "NIFTY 50 (IN)",
            "SENSEX (IN)",
            "Taiwan Weighted Index (TW)",
            "CBOE Volatility Index",
            "Gold Futures",
            "Brent Futures",
            "US Dollar Index",
            "GBPUSD",
            "EURUSD",
            "AUDUSD",
            "USDJPY",
            "USDCNY",
            "USDTWD",
            "USDKRW",
            "Bitcoin",
            " 10y UST"
           ],
           [
            44368.55859,
            6051.97021,
            21719.25977,
            38963.69922,
            8807.40039,
            547.78003,
            8042.18994,
            22148.0293,
            3919.86011,
            21857.91992,
            2548.38989,
            23045.25,
            76171.07812,
            23289.75,
            15.89,
            2909,
            75.18,
            107.94,
            1.24516,
            1.03649,
            0.62983,
            152.739,
            7.3072,
            32.8033,
            1450.75,
            97885.85938,
            4.637
           ],
           [
            -0.50476,
            -0.27239,
            0.11865,
            0,
            0.34179,
            0.10966,
            0.16553,
            0.50005,
            0.94563,
            2.64411,
            0.36785,
            -0.11508,
            -0.16059,
            -0.40327,
            -0.81149,
            -0.12017,
            -2.36364,
            -0.01852,
            0.73589,
            0.61568,
            0.4308,
            0.64576,
            0.03696,
            -0.18895,
            -0.16928,
            2.23341,
            2.2041
           ],
           [
            -1.12477,
            -0.15689,
            0.28211,
            0.34049,
            2.13492,
            1.71198,
            1.9072,
            2.60401,
            3.28794,
            6.1214,
            1.55901,
            -2.74748,
            -2.68324,
            0.55337,
            0.76094,
            1.30241,
            0.76397,
            0.33464,
            -0.21293,
            -0.07567,
            0.75517,
            -0.90441,
            1.74466,
            -0.26847,
            0.04068,
            1.31492,
            4.86206
           ],
           [
            2.65379,
            1.71532,
            2.26676,
            1.35031,
            6.0992,
            6.36092,
            7.59373,
            7.64702,
            3.26209,
            13.33527,
            2.06583,
            -0.72351,
            -0.72076,
            3.44301,
            -1.4268,
            7.24424,
            -8.3506,
            -1.05417,
            1.94991,
            0.56384,
            1.72322,
            -3.36033,
            -0.32329,
            -0.45247,
            -0.66349,
            -2.60549,
            -0.34386
           ]
          ]
         },
         "header": {
          "align": "left",
          "fill": {
           "color": "lightgrey"
          },
          "height": 20,
          "values": [
           "Ticker",
           "Last Close",
           "DoD %",
           "WoW %",
           "MoM %"
          ]
         },
         "type": "table"
        }
       ],
       "layout": {
        "height": 1000,
        "template": {
         "data": {
          "bar": [
           {
            "error_x": {
             "color": "#2a3f5f"
            },
            "error_y": {
             "color": "#2a3f5f"
            },
            "marker": {
             "line": {
              "color": "#E5ECF6",
              "width": 0.5
             },
             "pattern": {
              "fillmode": "overlay",
              "size": 10,
              "solidity": 0.2
             }
            },
            "type": "bar"
           }
          ],
          "barpolar": [
           {
            "marker": {
             "line": {
              "color": "#E5ECF6",
              "width": 0.5
             },
             "pattern": {
              "fillmode": "overlay",
              "size": 10,
              "solidity": 0.2
             }
            },
            "type": "barpolar"
           }
          ],
          "carpet": [
           {
            "aaxis": {
             "endlinecolor": "#2a3f5f",
             "gridcolor": "white",
             "linecolor": "white",
             "minorgridcolor": "white",
             "startlinecolor": "#2a3f5f"
            },
            "baxis": {
             "endlinecolor": "#2a3f5f",
             "gridcolor": "white",
             "linecolor": "white",
             "minorgridcolor": "white",
             "startlinecolor": "#2a3f5f"
            },
            "type": "carpet"
           }
          ],
          "choropleth": [
           {
            "colorbar": {
             "outlinewidth": 0,
             "ticks": ""
            },
            "type": "choropleth"
           }
          ],
          "contour": [
           {
            "colorbar": {
             "outlinewidth": 0,
             "ticks": ""
            },
            "colorscale": [
             [
              0,
              "#0d0887"
             ],
             [
              0.1111111111111111,
              "#46039f"
             ],
             [
              0.2222222222222222,
              "#7201a8"
             ],
             [
              0.3333333333333333,
              "#9c179e"
             ],
             [
              0.4444444444444444,
              "#bd3786"
             ],
             [
              0.5555555555555556,
              "#d8576b"
             ],
             [
              0.6666666666666666,
              "#ed7953"
             ],
             [
              0.7777777777777778,
              "#fb9f3a"
             ],
             [
              0.8888888888888888,
              "#fdca26"
             ],
             [
              1,
              "#f0f921"
             ]
            ],
            "type": "contour"
           }
          ],
          "contourcarpet": [
           {
            "colorbar": {
             "outlinewidth": 0,
             "ticks": ""
            },
            "type": "contourcarpet"
           }
          ],
          "heatmap": [
           {
            "colorbar": {
             "outlinewidth": 0,
             "ticks": ""
            },
            "colorscale": [
             [
              0,
              "#0d0887"
             ],
             [
              0.1111111111111111,
              "#46039f"
             ],
             [
              0.2222222222222222,
              "#7201a8"
             ],
             [
              0.3333333333333333,
              "#9c179e"
             ],
             [
              0.4444444444444444,
              "#bd3786"
             ],
             [
              0.5555555555555556,
              "#d8576b"
             ],
             [
              0.6666666666666666,
              "#ed7953"
             ],
             [
              0.7777777777777778,
              "#fb9f3a"
             ],
             [
              0.8888888888888888,
              "#fdca26"
             ],
             [
              1,
              "#f0f921"
             ]
            ],
            "type": "heatmap"
           }
          ],
          "heatmapgl": [
           {
            "colorbar": {
             "outlinewidth": 0,
             "ticks": ""
            },
            "colorscale": [
             [
              0,
              "#0d0887"
             ],
             [
              0.1111111111111111,
              "#46039f"
             ],
             [
              0.2222222222222222,
              "#7201a8"
             ],
             [
              0.3333333333333333,
              "#9c179e"
             ],
             [
              0.4444444444444444,
              "#bd3786"
             ],
             [
              0.5555555555555556,
              "#d8576b"
             ],
             [
              0.6666666666666666,
              "#ed7953"
             ],
             [
              0.7777777777777778,
              "#fb9f3a"
             ],
             [
              0.8888888888888888,
              "#fdca26"
             ],
             [
              1,
              "#f0f921"
             ]
            ],
            "type": "heatmapgl"
           }
          ],
          "histogram": [
           {
            "marker": {
             "pattern": {
              "fillmode": "overlay",
              "size": 10,
              "solidity": 0.2
             }
            },
            "type": "histogram"
           }
          ],
          "histogram2d": [
           {
            "colorbar": {
             "outlinewidth": 0,
             "ticks": ""
            },
            "colorscale": [
             [
              0,
              "#0d0887"
             ],
             [
              0.1111111111111111,
              "#46039f"
             ],
             [
              0.2222222222222222,
              "#7201a8"
             ],
             [
              0.3333333333333333,
              "#9c179e"
             ],
             [
              0.4444444444444444,
              "#bd3786"
             ],
             [
              0.5555555555555556,
              "#d8576b"
             ],
             [
              0.6666666666666666,
              "#ed7953"
             ],
             [
              0.7777777777777778,
              "#fb9f3a"
             ],
             [
              0.8888888888888888,
              "#fdca26"
             ],
             [
              1,
              "#f0f921"
             ]
            ],
            "type": "histogram2d"
           }
          ],
          "histogram2dcontour": [
           {
            "colorbar": {
             "outlinewidth": 0,
             "ticks": ""
            },
            "colorscale": [
             [
              0,
              "#0d0887"
             ],
             [
              0.1111111111111111,
              "#46039f"
             ],
             [
              0.2222222222222222,
              "#7201a8"
             ],
             [
              0.3333333333333333,
              "#9c179e"
             ],
             [
              0.4444444444444444,
              "#bd3786"
             ],
             [
              0.5555555555555556,
              "#d8576b"
             ],
             [
              0.6666666666666666,
              "#ed7953"
             ],
             [
              0.7777777777777778,
              "#fb9f3a"
             ],
             [
              0.8888888888888888,
              "#fdca26"
             ],
             [
              1,
              "#f0f921"
             ]
            ],
            "type": "histogram2dcontour"
           }
          ],
          "mesh3d": [
           {
            "colorbar": {
             "outlinewidth": 0,
             "ticks": ""
            },
            "type": "mesh3d"
           }
          ],
          "parcoords": [
           {
            "line": {
             "colorbar": {
              "outlinewidth": 0,
              "ticks": ""
             }
            },
            "type": "parcoords"
           }
          ],
          "pie": [
           {
            "automargin": true,
            "type": "pie"
           }
          ],
          "scatter": [
           {
            "fillpattern": {
             "fillmode": "overlay",
             "size": 10,
             "solidity": 0.2
            },
            "type": "scatter"
           }
          ],
          "scatter3d": [
           {
            "line": {
             "colorbar": {
              "outlinewidth": 0,
              "ticks": ""
             }
            },
            "marker": {
             "colorbar": {
              "outlinewidth": 0,
              "ticks": ""
             }
            },
            "type": "scatter3d"
           }
          ],
          "scattercarpet": [
           {
            "marker": {
             "colorbar": {
              "outlinewidth": 0,
              "ticks": ""
             }
            },
            "type": "scattercarpet"
           }
          ],
          "scattergeo": [
           {
            "marker": {
             "colorbar": {
              "outlinewidth": 0,
              "ticks": ""
             }
            },
            "type": "scattergeo"
           }
          ],
          "scattergl": [
           {
            "marker": {
             "colorbar": {
              "outlinewidth": 0,
              "ticks": ""
             }
            },
            "type": "scattergl"
           }
          ],
          "scattermapbox": [
           {
            "marker": {
             "colorbar": {
              "outlinewidth": 0,
              "ticks": ""
             }
            },
            "type": "scattermapbox"
           }
          ],
          "scatterpolar": [
           {
            "marker": {
             "colorbar": {
              "outlinewidth": 0,
              "ticks": ""
             }
            },
            "type": "scatterpolar"
           }
          ],
          "scatterpolargl": [
           {
            "marker": {
             "colorbar": {
              "outlinewidth": 0,
              "ticks": ""
             }
            },
            "type": "scatterpolargl"
           }
          ],
          "scatterternary": [
           {
            "marker": {
             "colorbar": {
              "outlinewidth": 0,
              "ticks": ""
             }
            },
            "type": "scatterternary"
           }
          ],
          "surface": [
           {
            "colorbar": {
             "outlinewidth": 0,
             "ticks": ""
            },
            "colorscale": [
             [
              0,
              "#0d0887"
             ],
             [
              0.1111111111111111,
              "#46039f"
             ],
             [
              0.2222222222222222,
              "#7201a8"
             ],
             [
              0.3333333333333333,
              "#9c179e"
             ],
             [
              0.4444444444444444,
              "#bd3786"
             ],
             [
              0.5555555555555556,
              "#d8576b"
             ],
             [
              0.6666666666666666,
              "#ed7953"
             ],
             [
              0.7777777777777778,
              "#fb9f3a"
             ],
             [
              0.8888888888888888,
              "#fdca26"
             ],
             [
              1,
              "#f0f921"
             ]
            ],
            "type": "surface"
           }
          ],
          "table": [
           {
            "cells": {
             "fill": {
              "color": "#EBF0F8"
             },
             "line": {
              "color": "white"
             }
            },
            "header": {
             "fill": {
              "color": "#C8D4E3"
             },
             "line": {
              "color": "white"
             }
            },
            "type": "table"
           }
          ]
         },
         "layout": {
          "annotationdefaults": {
           "arrowcolor": "#2a3f5f",
           "arrowhead": 0,
           "arrowwidth": 1
          },
          "autotypenumbers": "strict",
          "coloraxis": {
           "colorbar": {
            "outlinewidth": 0,
            "ticks": ""
           }
          },
          "colorscale": {
           "diverging": [
            [
             0,
             "#8e0152"
            ],
            [
             0.1,
             "#c51b7d"
            ],
            [
             0.2,
             "#de77ae"
            ],
            [
             0.3,
             "#f1b6da"
            ],
            [
             0.4,
             "#fde0ef"
            ],
            [
             0.5,
             "#f7f7f7"
            ],
            [
             0.6,
             "#e6f5d0"
            ],
            [
             0.7,
             "#b8e186"
            ],
            [
             0.8,
             "#7fbc41"
            ],
            [
             0.9,
             "#4d9221"
            ],
            [
             1,
             "#276419"
            ]
           ],
           "sequential": [
            [
             0,
             "#0d0887"
            ],
            [
             0.1111111111111111,
             "#46039f"
            ],
            [
             0.2222222222222222,
             "#7201a8"
            ],
            [
             0.3333333333333333,
             "#9c179e"
            ],
            [
             0.4444444444444444,
             "#bd3786"
            ],
            [
             0.5555555555555556,
             "#d8576b"
            ],
            [
             0.6666666666666666,
             "#ed7953"
            ],
            [
             0.7777777777777778,
             "#fb9f3a"
            ],
            [
             0.8888888888888888,
             "#fdca26"
            ],
            [
             1,
             "#f0f921"
            ]
           ],
           "sequentialminus": [
            [
             0,
             "#0d0887"
            ],
            [
             0.1111111111111111,
             "#46039f"
            ],
            [
             0.2222222222222222,
             "#7201a8"
            ],
            [
             0.3333333333333333,
             "#9c179e"
            ],
            [
             0.4444444444444444,
             "#bd3786"
            ],
            [
             0.5555555555555556,
             "#d8576b"
            ],
            [
             0.6666666666666666,
             "#ed7953"
            ],
            [
             0.7777777777777778,
             "#fb9f3a"
            ],
            [
             0.8888888888888888,
             "#fdca26"
            ],
            [
             1,
             "#f0f921"
            ]
           ]
          },
          "colorway": [
           "#636efa",
           "#EF553B",
           "#00cc96",
           "#ab63fa",
           "#FFA15A",
           "#19d3f3",
           "#FF6692",
           "#B6E880",
           "#FF97FF",
           "#FECB52"
          ],
          "font": {
           "color": "#2a3f5f"
          },
          "geo": {
           "bgcolor": "white",
           "lakecolor": "white",
           "landcolor": "#E5ECF6",
           "showlakes": true,
           "showland": true,
           "subunitcolor": "white"
          },
          "hoverlabel": {
           "align": "left"
          },
          "hovermode": "closest",
          "mapbox": {
           "style": "light"
          },
          "paper_bgcolor": "white",
          "plot_bgcolor": "#E5ECF6",
          "polar": {
           "angularaxis": {
            "gridcolor": "white",
            "linecolor": "white",
            "ticks": ""
           },
           "bgcolor": "#E5ECF6",
           "radialaxis": {
            "gridcolor": "white",
            "linecolor": "white",
            "ticks": ""
           }
          },
          "scene": {
           "xaxis": {
            "backgroundcolor": "#E5ECF6",
            "gridcolor": "white",
            "gridwidth": 2,
            "linecolor": "white",
            "showbackground": true,
            "ticks": "",
            "zerolinecolor": "white"
           },
           "yaxis": {
            "backgroundcolor": "#E5ECF6",
            "gridcolor": "white",
            "gridwidth": 2,
            "linecolor": "white",
            "showbackground": true,
            "ticks": "",
            "zerolinecolor": "white"
           },
           "zaxis": {
            "backgroundcolor": "#E5ECF6",
            "gridcolor": "white",
            "gridwidth": 2,
            "linecolor": "white",
            "showbackground": true,
            "ticks": "",
            "zerolinecolor": "white"
           }
          },
          "shapedefaults": {
           "line": {
            "color": "#2a3f5f"
           }
          },
          "ternary": {
           "aaxis": {
            "gridcolor": "white",
            "linecolor": "white",
            "ticks": ""
           },
           "baxis": {
            "gridcolor": "white",
            "linecolor": "white",
            "ticks": ""
           },
           "bgcolor": "#E5ECF6",
           "caxis": {
            "gridcolor": "white",
            "linecolor": "white",
            "ticks": ""
           }
          },
          "title": {
           "x": 0.05
          },
          "xaxis": {
           "automargin": true,
           "gridcolor": "white",
           "linecolor": "white",
           "ticks": "",
           "title": {
            "standoff": 15
           },
           "zerolinecolor": "white",
           "zerolinewidth": 2
          },
          "yaxis": {
           "automargin": true,
           "gridcolor": "white",
           "linecolor": "white",
           "ticks": "",
           "title": {
            "standoff": 15
           },
           "zerolinecolor": "white",
           "zerolinewidth": 2
          }
         }
        },
        "title": {
         "text": "Market Performance Table with Gradient Colorscale"
        },
        "width": 800
       }
      }
     },
     "metadata": {},
     "output_type": "display_data"
    }
   ],
   "source": [
    "import plotly.graph_objects as go\n",
    "\n",
    "# Normalize values for color scaling\n",
    "def normalize(series):\n",
    "    return (series - series.min()) / (series.max() - series.min())\n",
    "\n",
    "# Map normalized values to a colorscale\n",
    "def map_color(val):\n",
    "    return f'rgb({int((1 - val) * 255)}, {int(val * 255)}, 0)'\n",
    "\n",
    "# Assuming df is already defined and contains the necessary columns\n",
    "# Get colors for each column\n",
    "dod_colors = [map_color(v) for v in normalize(df['DoD %'])]\n",
    "wow_colors = [map_color(v) for v in normalize(df['WoW %'])]\n",
    "mom_colors = [map_color(v) for v in normalize(df['MoM %'])]\n",
    "\n",
    "# Plotly Table with cell background colors\n",
    "fig = go.Figure(data=[go.Table(\n",
    "    header=dict(\n",
    "        values=list(df.columns),\n",
    "        fill_color='lightgrey',\n",
    "        align='left',\n",
    "        height=20,  # Adjust header height\n",
    "        # width = 10\n",
    "    ),\n",
    "    cells=dict(\n",
    "        values=[df[col].round(5) for col in df.columns],\n",
    "        fill_color=[\n",
    "            ['white'] * len(df),  # Ticker\n",
    "            ['white'] * len(df),  # Last Close\n",
    "            dod_colors,\n",
    "            wow_colors,\n",
    "            mom_colors\n",
    "        ],\n",
    "        align='left',\n",
    "        height=20,  # Adjust cell height\n",
    "        line=dict(color='grey', width=0.5),  # Adjust line color and width\n",
    "        # padding=dict(t=10, b=10),  # Adjust padding (top and bottom)\n",
    "        # columnwidth=[80, 100, 80, 80, 80]  # Adjust column widths\n",
    "    )\n",
    ")])\n",
    "\n",
    "fig.update_layout(\n",
    "    title=\"Market Performance Table with Gradient Colorscale\",\n",
    "    height=1000,\n",
    "    width=800\n",
    ")\n",
    "\n",
    "fig.show()\n",
    "import plotly.io as pio\n",
    "pio.write_html(fig, file='market_performance_table.html', auto_open=True)\n"
   ]
  }
 ],
 "metadata": {
  "kernelspec": {
   "display_name": "Python 3",
   "language": "python",
   "name": "python3"
  },
  "language_info": {
   "codemirror_mode": {
    "name": "ipython",
    "version": 3
   },
   "file_extension": ".py",
   "mimetype": "text/x-python",
   "name": "python",
   "nbconvert_exporter": "python",
   "pygments_lexer": "ipython3",
   "version": "3.12.1"
  }
 },
 "nbformat": 4,
 "nbformat_minor": 2
}
