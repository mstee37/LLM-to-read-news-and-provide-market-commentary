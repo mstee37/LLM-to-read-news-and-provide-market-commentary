{
 "cells": [
  {
   "cell_type": "code",
   "execution_count": 22,
   "metadata": {},
   "outputs": [],
   "source": [
    "import requests\n",
    "import pandas as pd\n",
    "from bs4 import BeautifulSoup"
   ]
  },
  {
   "cell_type": "code",
   "execution_count": 23,
   "metadata": {},
   "outputs": [
    {
     "data": {
      "text/html": [
       "<div>\n",
       "<style scoped>\n",
       "    .dataframe tbody tr th:only-of-type {\n",
       "        vertical-align: middle;\n",
       "    }\n",
       "\n",
       "    .dataframe tbody tr th {\n",
       "        vertical-align: top;\n",
       "    }\n",
       "\n",
       "    .dataframe thead tr th {\n",
       "        text-align: left;\n",
       "    }\n",
       "</style>\n",
       "<table border=\"1\" class=\"dataframe\">\n",
       "  <thead>\n",
       "    <tr>\n",
       "      <th></th>\n",
       "      <th>Time</th>\n",
       "      <th>Country</th>\n",
       "      <th>Event</th>\n",
       "      <th>Actual</th>\n",
       "      <th>Forecast</th>\n",
       "      <th>Previous</th>\n",
       "    </tr>\n",
       "  </thead>\n",
       "  <tbody>\n",
       "    <tr>\n",
       "      <th>34</th>\n",
       "      <td>19:30</td>\n",
       "      <td>AUD</td>\n",
       "      <td>Trimmed Mean CPI (QoQ)  (Q4)</td>\n",
       "      <td></td>\n",
       "      <td>0.6%</td>\n",
       "      <td>0.8%</td>\n",
       "    </tr>\n",
       "    <tr>\n",
       "      <th>35</th>\n",
       "      <td>19:30</td>\n",
       "      <td>AUD</td>\n",
       "      <td>Trimmed Mean CPI (YoY)  (Q4)</td>\n",
       "      <td></td>\n",
       "      <td>3.3%</td>\n",
       "      <td>3.5%</td>\n",
       "    </tr>\n",
       "    <tr>\n",
       "      <th>36</th>\n",
       "      <td>19:30</td>\n",
       "      <td>AUD</td>\n",
       "      <td>Monthly CPI Indicator (YoY)  (Dec)</td>\n",
       "      <td></td>\n",
       "      <td>2.50%</td>\n",
       "      <td>2.30%</td>\n",
       "    </tr>\n",
       "    <tr>\n",
       "      <th>37</th>\n",
       "      <td>19:30</td>\n",
       "      <td>AUD</td>\n",
       "      <td>Weighted mean CPI (YoY)  (Q4)</td>\n",
       "      <td></td>\n",
       "      <td>3.5%</td>\n",
       "      <td>3.8%</td>\n",
       "    </tr>\n",
       "    <tr>\n",
       "      <th>38</th>\n",
       "      <td>19:30</td>\n",
       "      <td>AUD</td>\n",
       "      <td>Weighted mean CPI (QoQ)  (Q4)</td>\n",
       "      <td></td>\n",
       "      <td>0.6%</td>\n",
       "      <td>0.9%</td>\n",
       "    </tr>\n",
       "  </tbody>\n",
       "</table>\n",
       "</div>"
      ],
      "text/plain": [
       "     Time Country                               Event Actual Forecast Previous\n",
       "34  19:30     AUD        Trimmed Mean CPI (QoQ)  (Q4)            0.6%     0.8%\n",
       "35  19:30     AUD        Trimmed Mean CPI (YoY)  (Q4)            3.3%     3.5%\n",
       "36  19:30     AUD  Monthly CPI Indicator (YoY)  (Dec)           2.50%    2.30%\n",
       "37  19:30     AUD       Weighted mean CPI (YoY)  (Q4)            3.5%     3.8%\n",
       "38  19:30     AUD       Weighted mean CPI (QoQ)  (Q4)            0.6%     0.9%"
      ]
     },
     "execution_count": 23,
     "metadata": {},
     "output_type": "execute_result"
    }
   ],
   "source": [
    "# URL of the website to scrape    \n",
    "url = \"https://www.investing.com/economic-calendar/\"\n",
    "# Send a GET request to the webpage\n",
    "response = requests.get(url)\n",
    "\n",
    "soup = BeautifulSoup(response.content, \"html.parser\")\n",
    "\n",
    "# Find the first <tr> element\n",
    "contents = soup.find_all(\"tr\")\n",
    "\n",
    "data = []\n",
    "# print(len(contents))\n",
    "# df = pd.DataFrame()\n",
    "# Loop through each <tr> and find <td> elements within each row\n",
    "for row in contents:\n",
    "    columns = row.find_all(\"td\")  # Find all <td> within this <tr>\n",
    "\n",
    "    # Extract and print text from each column in the row\n",
    "    row_data = [col.text.strip() for col in columns]\n",
    "    if len(row_data) == 8:\n",
    "        # print(row_data)\n",
    "        data.append(row_data)\n",
    "    \n",
    "    # df = pd.concat([df, row_data])\n",
    "\n",
    "df = pd.DataFrame(data)\n",
    "df.drop(columns=[2,7],inplace=True)\n",
    "cols = [[\"Time\",\"Country\",'Event',\"Actual\",\"Forecast\",\"Previous\"]]\n",
    "df.columns = cols\n",
    "df.tail()"
   ]
  },
  {
   "cell_type": "code",
   "execution_count": 24,
   "metadata": {},
   "outputs": [
    {
     "data": {
      "text/plain": [
       "Time   2025-01-29\n",
       "Name: 0, dtype: datetime64[ns]"
      ]
     },
     "execution_count": 24,
     "metadata": {},
     "output_type": "execute_result"
    }
   ],
   "source": [
    "pd.to_datetime(df.Time.iloc[0])"
   ]
  },
  {
   "cell_type": "code",
   "execution_count": 25,
   "metadata": {},
   "outputs": [
    {
     "name": "stdout",
     "output_type": "stream",
     "text": [
      "Time    19:30\n",
      "Name: 38, dtype: object\n"
     ]
    },
    {
     "data": {
      "text/plain": [
       "Timestamp('2025-01-30 08:30:00')"
      ]
     },
     "execution_count": 25,
     "metadata": {},
     "output_type": "execute_result"
    }
   ],
   "source": [
    "from datetime import timedelta\n",
    "\n",
    "def adjust_time(data):\n",
    "    print(str(data))\n",
    "    time = pd.to_datetime(str(data)[8:13])\n",
    "    # print(time)\n",
    "    update = time + timedelta(hours=13)\n",
    "    # update = update.strftime(\"%H:%M\")\n",
    "    # print(update)\n",
    "    return update\n",
    "\n",
    "adjust_time(df.Time.iloc[-1])"
   ]
  },
  {
   "cell_type": "code",
   "execution_count": 26,
   "metadata": {},
   "outputs": [
    {
     "name": "stdout",
     "output_type": "stream",
     "text": [
      "Time    00:00\n",
      "Name: 0, dtype: object\n",
      "Time    01:00\n",
      "Name: 1, dtype: object\n",
      "Time    02:45\n",
      "Name: 2, dtype: object\n",
      "Time    03:00\n",
      "Name: 3, dtype: object\n",
      "Time    03:30\n",
      "Name: 4, dtype: object\n",
      "Time    04:00\n",
      "Name: 5, dtype: object\n",
      "Time    05:30\n",
      "Name: 6, dtype: object\n",
      "Time    08:30\n",
      "Name: 7, dtype: object\n",
      "Time    08:30\n",
      "Name: 8, dtype: object\n",
      "Time    08:30\n",
      "Name: 9, dtype: object\n",
      "Time    08:30\n",
      "Name: 10, dtype: object\n",
      "Time    08:30\n",
      "Name: 11, dtype: object\n",
      "Time    08:55\n",
      "Name: 12, dtype: object\n",
      "Time    09:00\n",
      "Name: 13, dtype: object\n",
      "Time    09:00\n",
      "Name: 14, dtype: object\n",
      "Time    09:00\n",
      "Name: 15, dtype: object\n",
      "Time    09:00\n",
      "Name: 16, dtype: object\n",
      "Time    09:00\n",
      "Name: 17, dtype: object\n",
      "Time    09:00\n",
      "Name: 18, dtype: object\n",
      "Time    10:00\n",
      "Name: 19, dtype: object\n",
      "Time    10:00\n",
      "Name: 20, dtype: object\n",
      "Time    10:00\n",
      "Name: 21, dtype: object\n",
      "Time    10:00\n",
      "Name: 22, dtype: object\n",
      "Time    10:30\n",
      "Name: 23, dtype: object\n",
      "Time    10:30\n",
      "Name: 24, dtype: object\n",
      "Time    11:30\n",
      "Name: 25, dtype: object\n",
      "Time    12:00\n",
      "Name: 26, dtype: object\n",
      "Time    13:00\n",
      "Name: 27, dtype: object\n",
      "Time    13:00\n",
      "Name: 28, dtype: object\n",
      "Time    16:30\n",
      "Name: 29, dtype: object\n",
      "Time    18:50\n",
      "Name: 30, dtype: object\n",
      "Time    19:30\n",
      "Name: 31, dtype: object\n",
      "Time    19:30\n",
      "Name: 32, dtype: object\n",
      "Time    19:30\n",
      "Name: 33, dtype: object\n",
      "Time    19:30\n",
      "Name: 34, dtype: object\n",
      "Time    19:30\n",
      "Name: 35, dtype: object\n",
      "Time    19:30\n",
      "Name: 36, dtype: object\n",
      "Time    19:30\n",
      "Name: 37, dtype: object\n",
      "Time    19:30\n",
      "Name: 38, dtype: object\n"
     ]
    }
   ],
   "source": [
    "for i in range(len(df)):\n",
    "    df.loc[i,\"Time\"] = adjust_time(df.loc[i,\"Time\"])"
   ]
  },
  {
   "cell_type": "code",
   "execution_count": 27,
   "metadata": {},
   "outputs": [],
   "source": [
    "df.to_csv(\"calendar.csv\", index=False)"
   ]
  },
  {
   "cell_type": "code",
   "execution_count": 28,
   "metadata": {},
   "outputs": [
    {
     "name": "stdout",
     "output_type": "stream",
     "text": [
      "               Time Country                                         Event  Actual Forecast Previous\n",
      "2025-01-29 13:00:00     JPY                            BoJ Core CPI (YoY)    1.9%     1.7%     1.7%\n",
      "2025-01-29 14:00:00     ZAR                     Leading Indicators  (Nov) 114.70%           114.00%\n",
      "2025-01-29 15:45:00     EUR             French Consumer Confidence  (Jan)      92       90       89\n",
      "2025-01-29 16:00:00     EUR               Spanish Unemployment Rate  (Q4)  10.61%   11.10%   11.21%\n",
      "2025-01-29 16:30:00     HKD                        M3 Money Supply  (Dec)    2.8%              2.4%\n",
      "2025-01-29 17:00:00     EUR                       ECB Bank Lending Survey                          \n",
      "2025-01-29 18:30:00     EUR                  German 2-Year Schatz Auction  2.260%            2.180%\n",
      "2025-01-29 21:30:00     USD        Core Durable Goods Orders (MoM)  (Dec)    0.3%     0.4%    -0.1%\n",
      "2025-01-29 21:30:00     USD             Durable Goods Orders (MoM)  (Dec)   -2.2%     0.3%    -2.0%\n",
      "2025-01-29 21:30:00     USD       Durables Excluding Defense (MoM)  (Dec)   -2.4%             -1.3%\n",
      "2025-01-29 21:30:00     USD     Durables Excluding Transport (MoM)  (Dec)    0.3%             -0.1%\n",
      "2025-01-29 21:30:00     USD  Goods Orders Non Defense Ex Air (MoM)  (Dec)    0.5%     0.3%     0.9%\n",
      "2025-01-29 21:55:00     USD                                 Redbook (YoY)    4.9%              4.5%\n",
      "2025-01-29 22:00:00     USD                House Price Index (YoY)  (Nov)    4.2%              4.5%\n",
      "2025-01-29 22:00:00     USD                House Price Index (MoM)  (Nov)    0.3%     0.4%     0.5%\n",
      "2025-01-29 22:00:00     USD                      House Price Index  (Nov)   433.4             432.3\n",
      "2025-01-29 22:00:00     USD   S&P/CS HPI Composite - 20 s.a. (MoM)  (Nov)    0.4%              0.4%\n",
      "2025-01-29 22:00:00     USD S&P/CS HPI Composite - 20 n.s.a. (MoM)  (Nov)   -0.1%             -0.2%\n",
      "2025-01-29 22:00:00     USD S&P/CS HPI Composite - 20 n.s.a. (YoY)  (Nov)    4.3%     4.2%     4.2%\n",
      "2025-01-29 23:00:00     USD                 CB Consumer Confidence  (Jan)   104.1    105.7    109.5\n",
      "2025-01-29 23:00:00     USD           Richmond Manufacturing Index  (Jan)      -4      -13      -10\n",
      "2025-01-29 23:00:00     USD       Richmond Manufacturing Shipments  (Jan)      -9               -11\n",
      "2025-01-29 23:00:00     USD                Richmond Services Index  (Jan)       4                23\n",
      "2025-01-29 23:30:00     USD           Dallas Fed Services Revenues  (Jan)     5.7              13.9\n",
      "2025-01-29 23:30:00     USD          Texas Services Sector Outlook  (Jan)     7.4              10.8\n",
      "2025-01-30 00:30:00     USD                      Atlanta Fed GDPNow  (Q4)             3.0%     3.0%\n",
      "2025-01-30 01:00:00     EUR                  ECB President Lagarde Speaks                          \n",
      "2025-01-30 02:00:00     USD                           7-Year Note Auction                    4.532%\n",
      "2025-01-30 02:00:00     USD                  M2 Money Supply (MoM)  (Dec)                    21.45T\n",
      "2025-01-30 05:30:00     USD                    API Weekly Crude Oil Stock           3.700M   1.000M\n",
      "2025-01-30 07:50:00     JPY               Monetary Policy Meeting Minutes                          \n",
      "2025-01-30 08:30:00     AUD                               CPI (QoQ)  (Q4)             0.3%     0.2%\n",
      "2025-01-30 08:30:00     AUD                               CPI (YoY)  (Q4)             2.5%     2.8%\n",
      "2025-01-30 08:30:00     AUD                        CPI Index Number  (Q4)                    139.10\n",
      "2025-01-30 08:30:00     AUD                  Trimmed Mean CPI (QoQ)  (Q4)             0.6%     0.8%\n",
      "2025-01-30 08:30:00     AUD                  Trimmed Mean CPI (YoY)  (Q4)             3.3%     3.5%\n",
      "2025-01-30 08:30:00     AUD            Monthly CPI Indicator (YoY)  (Dec)            2.50%    2.30%\n",
      "2025-01-30 08:30:00     AUD                 Weighted mean CPI (YoY)  (Q4)             3.5%     3.8%\n",
      "2025-01-30 08:30:00     AUD                 Weighted mean CPI (QoQ)  (Q4)             0.6%     0.9%\n"
     ]
    }
   ],
   "source": [
    "print(df.to_string(index=False))"
   ]
  }
 ],
 "metadata": {
  "kernelspec": {
   "display_name": "Python 3",
   "language": "python",
   "name": "python3"
  },
  "language_info": {
   "codemirror_mode": {
    "name": "ipython",
    "version": 3
   },
   "file_extension": ".py",
   "mimetype": "text/x-python",
   "name": "python",
   "nbconvert_exporter": "python",
   "pygments_lexer": "ipython3",
   "version": "3.12.1"
  }
 },
 "nbformat": 4,
 "nbformat_minor": 2
}
