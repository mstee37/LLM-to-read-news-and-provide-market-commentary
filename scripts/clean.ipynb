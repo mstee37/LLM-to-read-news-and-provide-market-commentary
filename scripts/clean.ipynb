{
 "cells": [
  {
   "cell_type": "code",
   "execution_count": 1,
   "metadata": {},
   "outputs": [],
   "source": [
    "import pandas as pd"
   ]
  },
  {
   "cell_type": "code",
   "execution_count": 2,
   "metadata": {},
   "outputs": [],
   "source": [
    "csv_file_path = \"C:\\\\Users\\\\tee_m\\\\Desktop\\\\TIC3901 Indus Project\\\\scripts\\\\google_news.csv\"\n",
    "df = pd.read_csv(csv_file_path)"
   ]
  },
  {
   "cell_type": "code",
   "execution_count": 3,
   "metadata": {},
   "outputs": [
    {
     "data": {
      "text/plain": [
       "137"
      ]
     },
     "execution_count": 3,
     "metadata": {},
     "output_type": "execute_result"
    }
   ],
   "source": [
    "len(df)"
   ]
  },
  {
   "cell_type": "code",
   "execution_count": 13,
   "metadata": {},
   "outputs": [
    {
     "data": {
      "text/plain": [
       "'Atlas Cycles, Indo Thai Sec, IRIS Business Services, Power & Instrument and Lloyds Metals, hit their fresh 52-week highs at 11:11AM.8 hours ago'"
      ]
     },
     "execution_count": 13,
     "metadata": {},
     "output_type": "execute_result"
    }
   ],
   "source": [
    "df[df.columns[3]].dropna().iloc[-1]"
   ]
  },
  {
   "cell_type": "code",
   "execution_count": 18,
   "metadata": {},
   "outputs": [],
   "source": [
    "columns_to_combine = df.columns  # Use `df.columns` to include all columns, or specify them like ['col1', 'col2']\n",
    "# print(columns_to_combine)\n",
    "text = \"\"\n",
    "for col in columns_to_combine:\n",
    "    text = \" \".join(df[col].dropna().astype(str))"
   ]
  },
  {
   "cell_type": "code",
   "execution_count": 19,
   "metadata": {},
   "outputs": [
    {
     "data": {
      "text/plain": [
       "\"Google × Please click here if you are not redirected within a few seconds. AllNewsVideosImages Maps Shopping Books Search tools    Past 24 hoursRecentPast hourPast 24 hoursPast weekPast monthPast yearArchivesSorted by dateSorted by relevanceSorted by dateClearCiti lifts its Brent forecast for Q1 '25Investing.comInvesting.com - Oil prices surged on Friday and were on track for a third straight week of gains, prompting Citigroup (NYSE:C) to revise higher its average...6 minutes agoAdani Commodities exercises oversubscription option in Adani Wilmar OFSCapital MarketAdani Commodities (promoter of Adani Wilmar) is exercising the oversubscription option in the offer for sale to the extent of 1,96,29910 equity sh...20 minutes agoGold rises Rs 250 to Rs 80,550 per 10 gm; silver trades flatThe Economic TimesGold prices rose Rs 250 to Rs 80550 per 10 grams in the national capital on Friday as rupee hit record low amid consistent buying from retailers and...1 hour agoChurchill Falls energy deal gets green light in Newfoundland and LabradorFinancial PostA dramatic vote on Thursday night ended with the N.L. government deciding to move forward with a draft energy deal with Quebec. Read more.1 hour agoS&P 500 Futures Decline in Premarket Trading; Walgreens Boots Alliance, Constellation Energy LeadBarron'sWith U.S. stock markets set to open in two hours, Walgreens Boots Alliance Inc. (WBA) was up 11.1% in pre-market trading, and Constellation Energy Corp.2 hours agoGold records its highest levels in a month and is heading for the largest weekly gains in a month and a half.المتداول العربيGold prices continued to expand their gains for the fourth consecutive session during Friday's trading, recording the highest level for the yellow metal in...2 hours agoMorning Bid: Bonds simmer as payrolls offer reality check By ReutersInvesting.comA look at the day ahead in U.S. and global markets from Mike Dolan. After a torrid start to the year for U.S. Treasuries and global sovereign bonds at large...3 hours agoRupee hits all-time low of 85.97 as dollar strengthens ahead of US jobs dataThe Financial ExpressPersistent headwinds, including a surging dollar and global economic uncertainties, have weighed heavily on the rupee.3 hours agoCommodity Roundup: Outlook remains bearish for European gas prices, BMI saysSeeking AlphaEuropean natural gas prices have rallied at the start of the year, reaching a peak of EUR50/MWh on the back of increased winter demand and fears over supply...3 hours agoCommodities outlook: what threats lie ahead in 2025?The GrocerUnpredictable and extreme weather, the threat of US tariffs, and instability in the Middle East will all affect food commodities.3 hours ago  Next >  Bukit BatokFrom your IP address\\xa0-\\xa0Learn moreSign inSettingsPrivacyTermsDark theme: Off Search tools Past 24 hoursRecentPast hourPast 24 hoursPast weekPast monthPast yearArchivesSorted by dateSorted by relevanceSorted by dateClear Sorted by dateSorted by relevanceSorted by date Clear Citi lifts its Brent forecast for Q1 '25Investing.comInvesting.com - Oil prices surged on Friday and were on track for a third straight week of gains, prompting Citigroup (NYSE:C) to revise higher its average...6 minutes ago Investing.com Adani Commodities exercises oversubscription option in Adani Wilmar OFSCapital MarketAdani Commodities (promoter of Adani Wilmar) is exercising the oversubscription option in the offer for sale to the extent of 1,96,29910 equity sh...20 minutes ago Capital Market Gold rises Rs 250 to Rs 80,550 per 10 gm; silver trades flatThe Economic TimesGold prices rose Rs 250 to Rs 80550 per 10 grams in the national capital on Friday as rupee hit record low amid consistent buying from retailers and...1 hour ago The Economic Times Churchill Falls energy deal gets green light in Newfoundland and LabradorFinancial PostA dramatic vote on Thursday night ended with the N.L. government deciding to move forward with a draft energy deal with Quebec. Read more.1 hour ago Financial Post A dramatic vote on Thursday night ended with the N.L. government deciding to move forward with a draft energy deal with Quebec. Read more.1 hour ago S&P 500 Futures Decline in Premarket Trading; Walgreens Boots Alliance, Constellation Energy LeadBarron'sWith U.S. stock markets set to open in two hours, Walgreens Boots Alliance Inc. (WBA) was up 11.1% in pre-market trading, and Constellation Energy Corp.2 hours ago Barron's With U.S. stock markets set to open in two hours, Walgreens Boots Alliance Inc. (WBA) was up 11.1% in pre-market trading, and Constellation Energy Corp.2 hours ago المتداول العربي Morning Bid: Bonds simmer as payrolls offer reality check By ReutersInvesting.comA look at the day ahead in U.S. and global markets from Mike Dolan. After a torrid start to the year for U.S. Treasuries and global sovereign bonds at large...3 hours ago A look at the day ahead in U.S. and global markets from Mike Dolan. After a torrid start to the year for U.S. Treasuries and global sovereign bonds at large...3 hours ago Rupee hits all-time low of 85.97 as dollar strengthens ahead of US jobs dataThe Financial ExpressPersistent headwinds, including a surging dollar and global economic uncertainties, have weighed heavily on the rupee.3 hours ago The Financial Express Persistent headwinds, including a surging dollar and global economic uncertainties, have weighed heavily on the rupee.3 hours ago Commodity Roundup: Outlook remains bearish for European gas prices, BMI saysSeeking AlphaEuropean natural gas prices have rallied at the start of the year, reaching a peak of EUR50/MWh on the back of increased winter demand and fears over supply...3 hours ago Seeking Alpha European natural gas prices have rallied at the start of the year, reaching a peak of EUR50/MWh on the back of increased winter demand and fears over supply...3 hours ago The Grocer Unpredictable and extreme weather, the threat of US tariffs, and instability in the Middle East will all affect food commodities.3 hours ago Next > Bukit BatokFrom your IP address\\xa0-\\xa0Learn moreSign inSettingsPrivacyTermsDark theme: Off Sign in SettingsPrivacyTermsDark theme: Off Oil Sanctions Concern Spurs Asian Buyers to Seek Alternatives | Stock Market NewsmintOil refiners in India and China have increased crude purchases from the Middle East and other regions amid concern that further restrictions on imports from...4 hours ago mint Oil refiners in India and China have increased crude purchases from the Middle East and other regions amid concern that further restrictions on imports from...4 hours ago India's rice stocks hit record high, wheat reserves deplete | Stock Market NewsmintBy Rajendra Jadhav. MUMBAI, Jan 10 (Reuters) - India's rice stocks hit a record high at the start of January, reaching eight times the government's target,...4 hours ago By Rajendra Jadhav. MUMBAI, Jan 10 (Reuters) - India's rice stocks hit a record high at the start of January, reaching eight times the government's target,...4 hours ago Today's pound, gold and oil prices in focus: commodity and currency check, 10 JanuaryYahooPound trades at its lowest point since late 2023 as bond sell-off continues.4 hours ago Yahoo Pound trades at its lowest point since late 2023 as bond sell-off continues.4 hours ago Copper Prices Edge Up 0.29% Amid Weaker Dollar and Demand Hopes By Kedia AdvisoryInvesting.com IndiaCopper prices gained 0.29%, settling at ₹825, supported by a weaker dollar and expectations of less aggressive tariffs under U.S. President-elect Donald...4 hours ago Indore Commodities Buzz Of January 10: Price Of Gold, Silver And Pulses-- All You Need To KnowFree Press JournalUrad Best Rs 8,300 - Rs 8,800. Urad Medium Rs 6,500 - Rs 7,800. Urad Light Rs 3,000 - Rs 5,000. Mustard Nimari Rs 5,900 - Rs 5,950.4 hours ago Free Press Journal Urad Best Rs 8,300 - Rs 8,800. Urad Medium Rs 6,500 - Rs 7,800. Urad Light Rs 3,000 - Rs 5,000. Mustard Nimari Rs 5,900 - Rs 5,950.4 hours ago Oil set for third straight weekly gain on supply concerns By ReutersInvesting.comBy Anna Hirtenstein. LONDON (Reuters) -Oil prices rose on Friday and were on track for a third straight week of gains as traders focused on potential supply...5 hours ago By Anna Hirtenstein. LONDON (Reuters) -Oil prices rose on Friday and were on track for a third straight week of gains as traders focused on potential supply...5 hours ago 【fowl play gold】 PortuguêsDetran-DFFoto do arquivo: fornecida por 【fowl play gold】. Fowl Play: The Intriguing Intersection of Poultry and Precious Metalsfowl play gold fowl play gold.5 hours ago Detran-DF Foto do arquivo: fornecida por 【fowl play gold】. Fowl Play: The Intriguing Intersection of Poultry and Precious Metalsfowl play gold fowl play gold.5 hours ago IG Early trading has seen more gains for commodity prices, lifting gold to its highest level since mid-December.5 hours ago Expect Gold To Reach $3,000 And Silver $38/Ounce: Nirmal Bang Commodities | CNBC TV18YouTubeCommodity Corner | Bullish on bullion and metals for 2025, says Kunal Shah, VP & Head of Commodities Research at Nirmal Bang Commodities.5 hours ago YouTube CNBC TV18 In global markets, gold futures fell by 0.33% to $2676.01 per ounce in New York.5 hours ago <Page 2> Construction World Stock In Focus | Adani Wilmar trades under pressure as sources tell CNBC-TV18 that the promoter has launched an OFS to sell 20% stake in the company.7 hours ago Malaysia's palm oil exports slip 9.97% to 1.34mil tonnes in Dec - MPOBThe StarKUALA LUMPUR: Malaysia's palm oil exports in December 2024 fell 9.97 per cent to 1.34 million tonnes from 1.49 million tonnes in the preceding month,...8 hours ago The Star KUALA LUMPUR: Malaysia's palm oil exports in December 2024 fell 9.97 per cent to 1.34 million tonnes from 1.49 million tonnes in the preceding month,...8 hours ago Crude oil futures rise amid increased heating oil demand in cold weatherThe Hindu BusinessLineCrude oil futures traded higher on Friday morning as the market anticipated increased demand for heating oil due to cold weather in the US and Europe.9 hours ago The Hindu BusinessLine Silver Rises on Safe-Haven Demand and Strong Industrial Outlook By Kedia AdvisoryInvesting.com IndiaSilver prices gained 0.85% to close at ₹91,711, driven by safe-haven demand as market participants assessed the Federal Reserve's cautious stance on rate...9 hours ago Cottoncandy Prices Dip Amid Higher Global Production Forecasts By Kedia AdvisoryInvesting.com IndiaCottoncandy prices eased by 0.42% to close at ₹54,590 as global cotton production for the 2024-25 crop year is projected to rise by 1.2 million bales to...9 hours ago Natural Gas Gains 3.79% on Supply Disruptions and High Demand By Kedia AdvisoryInvesting.com IndiaNatural gas prices surged by 3.79%, settling at ₹326 amid supply disruptions caused by freezing weather and robust global demand.9 hours ago Zinc Prices Edge Up 0.76% Amid Optimism Over Stimulus Measures By Kedia AdvisoryInvesting.com IndiaZinc prices rose 0.76% to settle at ₹271.55, driven by optimism surrounding Beijing's recent commitments to enhance monetary and fiscal stimulus to support...9 hours ago Turmeric Prices Steady Amid Low Supplies and Crop Developments By Kedia AdvisoryInvesting.com IndiaTurmeric prices rose by 0.36% to ₹15,200, supported by limited market supplies ahead of the new crop arrivals. Despite the current firmness,...9 hours ago < <<Page 3> Aluminium Prices Rise 1.06% Amid Tightening Supply and Record-Low Inventories By Kedia AdvisoryInvesting.com IndiaAluminium prices gained 1.06%, settling at ₹242.4, supported by declining inventories in London Metal Exchange (LME)-registered warehouses.9 hours ago Jeera Prices Slip on Profit Booking Amid Sowing Concerns By Kedia AdvisoryInvesting.com IndiaJeera prices declined by 0.32% to ₹23,360 as traders booked profits after recent gains driven by delayed sowing in Gujarat and Rajasthan.9 hours ago Oil prices are rising due to increased fuel demand from icy conditions in the U.S. and Europe. Brent crude futures reached $77.16, while West Texas...11 hours ago Higher Norway exploration drilling yields less oil and gas in 2024: regulatorS&P GlobalNorwegian exploration drilling yielded 24% less in discovered oil and gas volumes in 2024, despite a 24% increase in the number of exploration well.11 hours ago S&P Global Norwegian exploration drilling yielded 24% less in discovered oil and gas volumes in 2024, despite a 24% increase in the number of exploration well.11 hours ago Awka residents decry stamp duty charges on bread, other commoditiesThe Guardian Nigeria NewsSome residents of Awka, the Anambra State capital, have lamented the introduction of stamp duty charges on basic consumables, especially bread,...11 hours ago Some residents of Awka, the Anambra State capital, have lamented the introduction of stamp duty charges on basic consumables, especially bread,...11 hours ago Business Today The Business Times GOLD prices remained stable on Friday (Jan 10) during early Asian hours, poised for their strongest week since mid-November, as investors awaited US jobs...12 hours ago Key trading trends to watch in 2025: insights by global broker OctaMedia OutReach NewswireKUALA LUMPUR, MALAYSIA - Media OutReach Newswire - 10 January 2025 - Developments such as Forex market volatility, rising commodity prices, and Southeast...12 hours ago Media OutReach Newswire Nvidia and its friends boost SA unit trustsMoneywebThe best-performing unit trusts have exposure to US tech stocks, while the laggards were invested in commodities and international property.12 hours ago Moneyweb The best-performing unit trusts have exposure to US tech stocks, while the laggards were invested in commodities and international property.12 hours ago What’s the outlook for gold this week? Check Gold, silver rate today on January 10 in Mumbai, Delhi, Chennai, KolkataThe Financial ExpressCheck gold and silver rates today across major Indian cities and explore what affects their market dynamics!12 hours ago Check gold and silver rates today across major Indian cities and explore what affects their market dynamics!12 hours ago\""
      ]
     },
     "execution_count": 19,
     "metadata": {},
     "output_type": "execute_result"
    }
   ],
   "source": [
    "text"
   ]
  }
 ],
 "metadata": {
  "kernelspec": {
   "display_name": "Python 3",
   "language": "python",
   "name": "python3"
  },
  "language_info": {
   "codemirror_mode": {
    "name": "ipython",
    "version": 3
   },
   "file_extension": ".py",
   "mimetype": "text/x-python",
   "name": "python",
   "nbconvert_exporter": "python",
   "pygments_lexer": "ipython3",
   "version": "3.12.1"
  }
 },
 "nbformat": 4,
 "nbformat_minor": 2
}
